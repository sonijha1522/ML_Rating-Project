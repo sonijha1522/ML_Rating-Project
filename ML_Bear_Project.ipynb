{
 "cells": [
  {
   "cell_type": "code",
   "execution_count": 4,
   "metadata": {},
   "outputs": [],
   "source": [
    "import pandas as pd\n",
    "import numpy as np\n",
    "import matplotlib.pyplot as plt\n",
    "import seaborn as sns\n",
    "from sklearn.model_selection import train_test_split\n",
    "from sklearn.ensemble import RandomForestClassifier\n",
    "from sklearn.metrics import accuracy_score"
   ]
  },
  {
   "cell_type": "code",
   "execution_count": 5,
   "metadata": {},
   "outputs": [
    {
     "data": {
      "text/html": [
       "<div>\n",
       "<style scoped>\n",
       "    .dataframe tbody tr th:only-of-type {\n",
       "        vertical-align: middle;\n",
       "    }\n",
       "\n",
       "    .dataframe tbody tr th {\n",
       "        vertical-align: top;\n",
       "    }\n",
       "\n",
       "    .dataframe thead th {\n",
       "        text-align: right;\n",
       "    }\n",
       "</style>\n",
       "<table border=\"1\" class=\"dataframe\">\n",
       "  <thead>\n",
       "    <tr style=\"text-align: right;\">\n",
       "      <th></th>\n",
       "      <th>beername</th>\n",
       "      <th>beerstyle</th>\n",
       "      <th>reviewoverall</th>\n",
       "      <th>reviewtext</th>\n",
       "    </tr>\n",
       "  </thead>\n",
       "  <tbody>\n",
       "    <tr>\n",
       "      <th>0</th>\n",
       "      <td>Chiostro</td>\n",
       "      <td>Herbed / Spiced Beer</td>\n",
       "      <td>4.0</td>\n",
       "      <td>Pours a clouded gold with a thin white head. N...</td>\n",
       "    </tr>\n",
       "    <tr>\n",
       "      <th>1</th>\n",
       "      <td>Bearded Pat's Barleywine</td>\n",
       "      <td>American Barleywine</td>\n",
       "      <td>3.5</td>\n",
       "      <td>12oz bottle into 8oz snifter.\\t\\tDeep ruby red...</td>\n",
       "    </tr>\n",
       "    <tr>\n",
       "      <th>2</th>\n",
       "      <td>Naughty Nellie's Ale</td>\n",
       "      <td>American Pale Ale (APA)</td>\n",
       "      <td>3.5</td>\n",
       "      <td>First enjoyed at the brewpub about 2 years ago...</td>\n",
       "    </tr>\n",
       "    <tr>\n",
       "      <th>3</th>\n",
       "      <td>Pilsner Urquell</td>\n",
       "      <td>Czech Pilsener</td>\n",
       "      <td>2.5</td>\n",
       "      <td>First thing I noticed after pouring from green...</td>\n",
       "    </tr>\n",
       "    <tr>\n",
       "      <th>4</th>\n",
       "      <td>Black Sheep Ale (Special)</td>\n",
       "      <td>English Pale Ale</td>\n",
       "      <td>3.0</td>\n",
       "      <td>A: pours an amber with a one finger head but o...</td>\n",
       "    </tr>\n",
       "  </tbody>\n",
       "</table>\n",
       "</div>"
      ],
      "text/plain": [
       "                    beername                beerstyle  reviewoverall  \\\n",
       "0                   Chiostro     Herbed / Spiced Beer            4.0   \n",
       "1   Bearded Pat's Barleywine      American Barleywine            3.5   \n",
       "2       Naughty Nellie's Ale  American Pale Ale (APA)            3.5   \n",
       "3            Pilsner Urquell           Czech Pilsener            2.5   \n",
       "4  Black Sheep Ale (Special)         English Pale Ale            3.0   \n",
       "\n",
       "                                          reviewtext  \n",
       "0  Pours a clouded gold with a thin white head. N...  \n",
       "1  12oz bottle into 8oz snifter.\\t\\tDeep ruby red...  \n",
       "2  First enjoyed at the brewpub about 2 years ago...  \n",
       "3  First thing I noticed after pouring from green...  \n",
       "4  A: pours an amber with a one finger head but o...  "
      ]
     },
     "execution_count": 5,
     "metadata": {},
     "output_type": "execute_result"
    }
   ],
   "source": [
    "df = pd.read_csv('C:/Users/admin/Documents/data for csv file/Algoscale Interview------------------------------------/DS_Case_Study_beer-ratings_2020/DS_Case_Study_beer-ratings_2020/train1.csv', usecols = ['beername', 'beerstyle', 'reviewtext','reviewoverall'])\n",
    "df.head()"
   ]
  },
  {
   "cell_type": "code",
   "execution_count": 6,
   "metadata": {},
   "outputs": [
    {
     "data": {
      "text/plain": [
       "(37500, 4)"
      ]
     },
     "execution_count": 6,
     "metadata": {},
     "output_type": "execute_result"
    }
   ],
   "source": [
    "df.shape"
   ]
  },
  {
   "cell_type": "code",
   "execution_count": 7,
   "metadata": {},
   "outputs": [
    {
     "data": {
      "text/plain": [
       "4.0    13868\n",
       "4.5     8666\n",
       "3.5     6551\n",
       "3.0     3319\n",
       "5.0     2671\n",
       "2.5     1193\n",
       "2.0      807\n",
       "1.5      248\n",
       "1.0      176\n",
       "0.0        1\n",
       "Name: reviewoverall, dtype: int64"
      ]
     },
     "execution_count": 7,
     "metadata": {},
     "output_type": "execute_result"
    }
   ],
   "source": [
    "df.reviewoverall.value_counts()"
   ]
  },
  {
   "cell_type": "code",
   "execution_count": 8,
   "metadata": {},
   "outputs": [
    {
     "data": {
      "text/plain": [
       "<seaborn.axisgrid.FacetGrid at 0x1b919e3f790>"
      ]
     },
     "execution_count": 8,
     "metadata": {},
     "output_type": "execute_result"
    },
    {
     "data": {
      "image/png": "[encoded data removed]",
      "text/plain": [
       "<Figure size 360x360 with 1 Axes>"
      ]
     },
     "metadata": {
      "needs_background": "light"
     },
     "output_type": "display_data"
    }
   ],
   "source": [
    "sns.catplot(x='reviewoverall', data = df, kind='count')"
   ]
  },
  {
   "cell_type": "code",
   "execution_count": 9,
   "metadata": {},
   "outputs": [
    {
     "data": {
      "text/html": [
       "<div>\n",
       "<style scoped>\n",
       "    .dataframe tbody tr th:only-of-type {\n",
       "        vertical-align: middle;\n",
       "    }\n",
       "\n",
       "    .dataframe tbody tr th {\n",
       "        vertical-align: top;\n",
       "    }\n",
       "\n",
       "    .dataframe thead th {\n",
       "        text-align: right;\n",
       "    }\n",
       "</style>\n",
       "<table border=\"1\" class=\"dataframe\">\n",
       "  <thead>\n",
       "    <tr style=\"text-align: right;\">\n",
       "      <th></th>\n",
       "      <th>beername</th>\n",
       "      <th>beerstyle</th>\n",
       "      <th>reviewtext</th>\n",
       "    </tr>\n",
       "  </thead>\n",
       "  <tbody>\n",
       "    <tr>\n",
       "      <th>0</th>\n",
       "      <td>Chiostro</td>\n",
       "      <td>Herbed / Spiced Beer</td>\n",
       "      <td>Pours a clouded gold with a thin white head. N...</td>\n",
       "    </tr>\n",
       "    <tr>\n",
       "      <th>1</th>\n",
       "      <td>Bearded Pat's Barleywine</td>\n",
       "      <td>American Barleywine</td>\n",
       "      <td>12oz bottle into 8oz snifter.\\t\\tDeep ruby red...</td>\n",
       "    </tr>\n",
       "    <tr>\n",
       "      <th>2</th>\n",
       "      <td>Naughty Nellie's Ale</td>\n",
       "      <td>American Pale Ale (APA)</td>\n",
       "      <td>First enjoyed at the brewpub about 2 years ago...</td>\n",
       "    </tr>\n",
       "    <tr>\n",
       "      <th>3</th>\n",
       "      <td>Pilsner Urquell</td>\n",
       "      <td>Czech Pilsener</td>\n",
       "      <td>First thing I noticed after pouring from green...</td>\n",
       "    </tr>\n",
       "    <tr>\n",
       "      <th>4</th>\n",
       "      <td>Black Sheep Ale (Special)</td>\n",
       "      <td>English Pale Ale</td>\n",
       "      <td>A: pours an amber with a one finger head but o...</td>\n",
       "    </tr>\n",
       "  </tbody>\n",
       "</table>\n",
       "</div>"
      ],
      "text/plain": [
       "                    beername                beerstyle  \\\n",
       "0                   Chiostro     Herbed / Spiced Beer   \n",
       "1   Bearded Pat's Barleywine      American Barleywine   \n",
       "2       Naughty Nellie's Ale  American Pale Ale (APA)   \n",
       "3            Pilsner Urquell           Czech Pilsener   \n",
       "4  Black Sheep Ale (Special)         English Pale Ale   \n",
       "\n",
       "                                          reviewtext  \n",
       "0  Pours a clouded gold with a thin white head. N...  \n",
       "1  12oz bottle into 8oz snifter.\\t\\tDeep ruby red...  \n",
       "2  First enjoyed at the brewpub about 2 years ago...  \n",
       "3  First thing I noticed after pouring from green...  \n",
       "4  A: pours an amber with a one finger head but o...  "
      ]
     },
     "execution_count": 9,
     "metadata": {},
     "output_type": "execute_result"
    }
   ],
   "source": [
    "X = df.drop('reviewoverall', axis = 1)\n",
    "X.head()"
   ]
  },
  {
   "cell_type": "code",
   "execution_count": 10,
   "metadata": {},
   "outputs": [
    {
     "data": {
      "text/plain": [
       "0        1\n",
       "1        1\n",
       "2        1\n",
       "3        0\n",
       "4        1\n",
       "        ..\n",
       "37495    1\n",
       "37496    1\n",
       "37497    1\n",
       "37498    1\n",
       "37499    1\n",
       "Name: reviewoverall, Length: 37500, dtype: int64"
      ]
     },
     "execution_count": 10,
     "metadata": {},
     "output_type": "execute_result"
    }
   ],
   "source": [
    "#Lable Binerization\n",
    "Y = df['reviewoverall'].apply(lambda y_value:1 if y_value>2.5 else 0 )\n",
    "Y"
   ]
  },
  {
   "cell_type": "code",
   "execution_count": null,
   "metadata": {},
   "outputs": [],
   "source": [
    "#MERGING THE COLUMN OF beername, beerstyle, reviewtext"
   ]
  },
  {
   "cell_type": "code",
   "execution_count": 11,
   "metadata": {},
   "outputs": [
    {
     "data": {
      "text/plain": [
       "0    ChiostroHerbed / Spiced BeerPours a clouded go...\n",
       "1    Bearded Pat's BarleywineAmerican Barleywine12o...\n",
       "2    Naughty Nellie's AleAmerican Pale Ale (APA)Fir...\n",
       "3    Pilsner UrquellCzech PilsenerFirst thing I not...\n",
       "4    Black Sheep Ale (Special)English Pale AleA: po...\n",
       "Name: bear_info, dtype: object"
      ]
     },
     "execution_count": 11,
     "metadata": {},
     "output_type": "execute_result"
    }
   ],
   "source": [
    "df['bear_info'] = (df['beername']+df['beerstyle']+df['reviewtext']).astype(str)\n",
    "df['bear_info'].head()"
   ]
  },
  {
   "cell_type": "code",
   "execution_count": 12,
   "metadata": {},
   "outputs": [],
   "source": [
    "import re\n",
    "from nltk.corpus import stopwords\n",
    "from nltk.stem import PorterStemmer"
   ]
  },
  {
   "cell_type": "code",
   "execution_count": 13,
   "metadata": {},
   "outputs": [],
   "source": [
    "sw = set(stopwords.words('english'))\n",
    "ps = PorterStemmer()"
   ]
  },
  {
   "cell_type": "code",
   "execution_count": 14,
   "metadata": {},
   "outputs": [],
   "source": [
    "def clean_text(sample):\n",
    "    sample = sample.lower()\n",
    "    sample.replace(\" \\t\\t\", '')\n",
    "    sample = re.sub('\\[.*?\\]','',sample)\n",
    "    re.sub(r\"\\s+[a-zA-Z]\\s+\", \" \", sample)\n",
    "    sample = re.sub('\\[.*?\\]','',sample)\n",
    "    sample = re.sub(r\"[,@\\'?\\:\\/\\-\\.$%_]\", \"\", sample, flags=re.I)\n",
    "    sample = re.sub('[''\"\"_]','',sample)\n",
    "    sample = re.sub(r\"\\s+\",\" \", sample, flags = re.I)\n",
    "    sample = re.sub('\\w*\\d\\w*','',sample)\n",
    "    sample = sample.split()\n",
    "    sample = [ps.stem(s) for s in sample if s not in sw]  #list compherensive\n",
    "    sample = \" \".join(sample)\n",
    "    return sample\n",
    "cleaned1 = lambda x:clean_text(x)"
   ]
  },
  {
   "cell_type": "code",
   "execution_count": 15,
   "metadata": {},
   "outputs": [
    {
     "data": {
      "text/plain": [
       "'beard pat barleywineamerican bottl snifter deep rubi red hue one finger light tan head settl thin rim along glass sharp pierc hop light hard candi background hop provid bitter arent sharp would expect mostli light candi flavor like aroma full bodi good carbon finish linger sweet flavor bit bitter sweet barleywin weird hard candi flavor seem domin bad would like littl complex'"
      ]
     },
     "execution_count": 15,
     "metadata": {},
     "output_type": "execute_result"
    }
   ],
   "source": [
    "clean_text(df['bear_info'][1])"
   ]
  },
  {
   "cell_type": "code",
   "execution_count": 16,
   "metadata": {},
   "outputs": [
    {
     "data": {
      "text/plain": [
       "\"Bearded Pat's BarleywineAmerican Barleywine12oz bottle into 8oz snifter.\\t\\tDeep ruby red hue with a one finger light tan head that settles to a thin rim along the glass.\\t\\tSharp piercing hops with some light hard candy in the background. \\t\\tThe hops provide some bitterness, but they aren't as sharp as I would have expected. Mostly a light candy flavor like in the aroma. Full bodied with good carbonation. The finish is some lingering sweet flavor with a bit of bitterness.\\t\\tA very sweet barleywine with a weird hard candy flavor that seemed to dominate. Not bad, but I would have liked a little more complexity.\""
      ]
     },
     "execution_count": 16,
     "metadata": {},
     "output_type": "execute_result"
    }
   ],
   "source": [
    "df['bear_info'][1]"
   ]
  },
  {
   "cell_type": "code",
   "execution_count": 17,
   "metadata": {},
   "outputs": [
    {
     "name": "stdout",
     "output_type": "stream",
     "text": [
      "0        chiostroherb spice beerpour cloud gold thin wh...\n",
      "1        beard pat barleywineamerican bottl snifter dee...\n",
      "2        naughti nelli aleamerican pale ale (apa)first ...\n",
      "3        pilsner urquellczech pilsenerfirst thing notic...\n",
      "4        black sheep ale (special)english pale alea pou...\n",
      "                               ...                        \n",
      "37495    blackberri scottishstylefruit veget oz brown l...\n",
      "37496    founder dirti bastardscotch ale wee heavya bri...\n",
      "37497    stoudt festmã¤rzen oktoberfestsampl tap redbon...\n",
      "37498    founder kb (kentucki breakfast stout)american ...\n",
      "37499    founder dirti bastardscotch ale wee heavya nic...\n",
      "Name: bear_info, Length: 37500, dtype: object\n"
     ]
    }
   ],
   "source": [
    "X = df['bear_info'].apply(cleaned1)\n",
    "print(X)"
   ]
  },
  {
   "cell_type": "code",
   "execution_count": 18,
   "metadata": {},
   "outputs": [],
   "source": [
    "from sklearn.feature_extraction.text import TfidfVectorizer\n"
   ]
  },
  {
   "cell_type": "code",
   "execution_count": 19,
   "metadata": {},
   "outputs": [],
   "source": [
    "#CONVERTING THE TEXTUALDATA TO NUMERICAL DATA\n",
    "vectorizer = TfidfVectorizer()\n",
    "vectorizer.fit(X)\n",
    "X =vectorizer.transform(X)"
   ]
  },
  {
   "cell_type": "code",
   "execution_count": 20,
   "metadata": {},
   "outputs": [
    {
     "name": "stdout",
     "output_type": "stream",
     "text": [
      "  (0, 52042)\t0.06583288457613798\n",
      "  (0, 50339)\t0.08444030649267009\n",
      "  (0, 48273)\t0.09331841591730518\n",
      "  (0, 48259)\t0.11742984603627683\n",
      "  (0, 47493)\t0.08423846561874102\n",
      "  (0, 47463)\t0.07075196177548107\n",
      "  (0, 43463)\t0.47607400333227956\n",
      "  (0, 41918)\t0.09009777478914953\n",
      "  (0, 40950)\t0.0873558746654013\n",
      "  (0, 38604)\t0.17524760108756635\n",
      "  (0, 37813)\t0.14556944713705045\n",
      "  (0, 36872)\t0.20703815235140904\n",
      "  (0, 35086)\t0.11402141507974009\n",
      "  (0, 34450)\t0.08777593899844359\n",
      "  (0, 34065)\t0.07074809750592559\n",
      "  (0, 32816)\t0.13748430031367254\n",
      "  (0, 32157)\t0.06562891742974813\n",
      "  (0, 31674)\t0.04776720865199267\n",
      "  (0, 27587)\t0.058762141321059884\n",
      "  (0, 27312)\t0.05062389940864838\n",
      "  (0, 26633)\t0.17794453642658198\n",
      "  (0, 23796)\t0.2537083063527948\n",
      "  (0, 23720)\t0.15181141714648058\n",
      "  (0, 23382)\t0.2012259079720131\n",
      "  (0, 22284)\t0.10333841070539748\n",
      "  :\t:\n",
      "  (37499, 19936)\t0.11549238083265037\n",
      "  (37499, 18370)\t0.059287218439215666\n",
      "  (37499, 17447)\t0.06031057596463996\n",
      "  (37499, 15907)\t0.09417683634821288\n",
      "  (37499, 14749)\t0.06986430770469075\n",
      "  (37499, 14685)\t0.07475853204439357\n",
      "  (37499, 13916)\t0.132623399976786\n",
      "  (37499, 13412)\t0.14896773905470345\n",
      "  (37499, 11946)\t0.09103498544455643\n",
      "  (37499, 11574)\t0.21754369949128055\n",
      "  (37499, 11328)\t0.1014080414816289\n",
      "  (37499, 11194)\t0.08761605621364676\n",
      "  (37499, 11071)\t0.06076808317171044\n",
      "  (37499, 10635)\t0.15325943932796568\n",
      "  (37499, 9218)\t0.17372778403981706\n",
      "  (37499, 8613)\t0.07796686841663332\n",
      "  (37499, 7584)\t0.07292295813283696\n",
      "  (37499, 6773)\t0.06739579183842112\n",
      "  (37499, 4854)\t0.3138598928632815\n",
      "  (37499, 4548)\t0.04564659648035963\n",
      "  (37499, 4303)\t0.1252515315248215\n",
      "  (37499, 3763)\t0.07877726847080224\n",
      "  (37499, 3438)\t0.12159633159888397\n",
      "  (37499, 913)\t0.07689524719905227\n",
      "  (37499, 155)\t0.09936027656678893\n"
     ]
    }
   ],
   "source": [
    "print(X)"
   ]
  },
  {
   "cell_type": "code",
   "execution_count": 21,
   "metadata": {},
   "outputs": [],
   "source": [
    "#spliting the data to train test split\n",
    "X_train, X_test, Y_train, Y_test = train_test_split(X,Y, test_size=0.2,random_state =2)\n"
   ]
  },
  {
   "cell_type": "code",
   "execution_count": 22,
   "metadata": {},
   "outputs": [],
   "source": [
    "from sklearn.linear_model import LogisticRegression"
   ]
  },
  {
   "cell_type": "code",
   "execution_count": 23,
   "metadata": {},
   "outputs": [
    {
     "data": {
      "text/plain": [
       "LogisticRegression()"
      ]
     },
     "execution_count": 23,
     "metadata": {},
     "output_type": "execute_result"
    }
   ],
   "source": [
    "#TRAINING THE MODEL OF LOGISTIC REGRESION\n",
    "model = LogisticRegression()\n",
    "model.fit(X_train, Y_train)"
   ]
  },
  {
   "cell_type": "code",
   "execution_count": 24,
   "metadata": {},
   "outputs": [
    {
     "data": {
      "text/plain": [
       "0.9492"
      ]
     },
     "execution_count": 24,
     "metadata": {},
     "output_type": "execute_result"
    }
   ],
   "source": [
    "#Accuracy score of training data\n",
    "X_train_prediction = model.predict(X_train)\n",
    "training_data_accuracy = accuracy_score(X_train_prediction, Y_train)\n",
    "training_data_accuracy"
   ]
  },
  {
   "cell_type": "code",
   "execution_count": 25,
   "metadata": {},
   "outputs": [
    {
     "data": {
      "text/plain": [
       "0.9381333333333334"
      ]
     },
     "execution_count": 25,
     "metadata": {},
     "output_type": "execute_result"
    }
   ],
   "source": [
    "#Accuracy score of test data\n",
    "X_test_prediction = model.predict(X_test)\n",
    "test_data_accuracy = accuracy_score(X_test_prediction, Y_test)\n",
    "test_data_accuracy"
   ]
  },
  {
   "cell_type": "code",
   "execution_count": 26,
   "metadata": {},
   "outputs": [],
   "source": [
    "from sklearn.metrics import classification_report"
   ]
  },
  {
   "cell_type": "code",
   "execution_count": 28,
   "metadata": {},
   "outputs": [
    {
     "name": "stdout",
     "output_type": "stream",
     "text": [
      "              precision    recall  f1-score   support\n",
      "\n",
      "           0       0.16      0.77      0.26       107\n",
      "           1       1.00      0.94      0.97      7393\n",
      "\n",
      "    accuracy                           0.94      7500\n",
      "   macro avg       0.58      0.85      0.61      7500\n",
      "weighted avg       0.98      0.94      0.96      7500\n",
      "\n"
     ]
    }
   ],
   "source": [
    "print(classification_report(X_test_prediction, Y_test))"
   ]
  },
  {
   "cell_type": "code",
   "execution_count": null,
   "metadata": {},
   "outputs": [],
   "source": []
  },
  {
   "cell_type": "code",
   "execution_count": null,
   "metadata": {},
   "outputs": [],
   "source": []
  }
 ],
 "metadata": {
  "kernelspec": {
   "display_name": "Python 3",
   "language": "python",
   "name": "python3"
  },
  "language_info": {
   "codemirror_mode": {
    "name": "ipython",
    "version": 3
   },
   "file_extension": ".py",
   "mimetype": "text/x-python",
   "name": "python",
   "nbconvert_exporter": "python",
   "pygments_lexer": "ipython3",
   "version": "3.8.5"
  }
 },
 "nbformat": 4,
 "nbformat_minor": 4
}
